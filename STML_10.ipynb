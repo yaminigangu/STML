{
  "nbformat": 4,
  "nbformat_minor": 0,
  "metadata": {
    "colab": {
      "provenance": [],
      "include_colab_link": true
    },
    "kernelspec": {
      "name": "python3",
      "display_name": "Python 3"
    },
    "language_info": {
      "name": "python"
    }
  },
  "cells": [
    {
      "cell_type": "markdown",
      "metadata": {
        "id": "view-in-github",
        "colab_type": "text"
      },
      "source": [
        "<a href=\"https://colab.research.google.com/github/yaminigangu/STML/blob/main/STML_10.ipynb\" target=\"_parent\"><img src=\"https://colab.research.google.com/assets/colab-badge.svg\" alt=\"Open In Colab\"/></a>"
      ]
    },
    {
      "cell_type": "code",
      "source": [
        "from google.colab import drive\n",
        "drive.mount('/content/drive')"
      ],
      "metadata": {
        "colab": {
          "base_uri": "https://localhost:8080/"
        },
        "id": "vUY1LO5MQdA7",
        "outputId": "3a32986e-903e-44f6-8fda-1951f63a6b89"
      },
      "execution_count": 2,
      "outputs": [
        {
          "output_type": "stream",
          "name": "stdout",
          "text": [
            "Drive already mounted at /content/drive; to attempt to forcibly remount, call drive.mount(\"/content/drive\", force_remount=True).\n"
          ]
        }
      ]
    },
    {
      "cell_type": "code",
      "execution_count": 3,
      "metadata": {
        "id": "Y6snAqIhC-mB",
        "colab": {
          "base_uri": "https://localhost:8080/"
        },
        "outputId": "96fe40cf-cbd4-409f-b413-1a804cef7398"
      },
      "outputs": [
        {
          "output_type": "stream",
          "name": "stdout",
          "text": [
            "Features: Index(['Age', 'Gender', 'Protein1', 'Protein2', 'Protein3', 'Protein4',\n",
            "       'Tumour_Stage', 'Histology', 'ER status', 'PR status', 'HER2 status',\n",
            "       'Surgery_type', 'Date_of_Surgery', 'Date_of_Last_Visit'],\n",
            "      dtype='object')\n",
            "Target variable: Patient_Status\n"
          ]
        }
      ],
      "source": [
        "import pandas as pd\n",
        "from google.colab import drive\n",
        "\n",
        "import pandas as pd\n",
        "from sklearn.preprocessing import LabelEncoder, StandardScaler\n",
        "\n",
        "data = pd.read_csv(\"/content/drive/MyDrive/breast_cancer_survival (1).csv\")\n",
        "\n",
        "data = data.dropna()\n",
        "\n",
        "X = data.iloc[:, :-1]\n",
        "y = data.iloc[:, -1]\n",
        "\n",
        "for column in X.select_dtypes(include=['object']).columns:\n",
        "    le = LabelEncoder()\n",
        "    X[column] = le.fit_transform(X[column])\n",
        "\n",
        "print(\"Features:\", X.columns)\n",
        "print(\"Target variable:\", y.name)\n"
      ]
    },
    {
      "cell_type": "code",
      "source": [
        "import pandas as pd\n",
        "from sklearn.preprocessing import LabelEncoder, StandardScaler\n",
        "from sklearn.model_selection import train_test_split\n",
        "from sklearn.neighbors import KNeighborsClassifier\n",
        "from sklearn.metrics import accuracy_score\n",
        "\n",
        "data = pd.read_csv(\"/content/drive/MyDrive/breast_cancer_survival (1).csv\")\n",
        "data = data.dropna()\n",
        "\n",
        "X = data.iloc[:, :-1]\n",
        "y = data.iloc[:, -1]\n",
        "\n",
        "for column in X.select_dtypes(include=['object']).columns:\n",
        "    le = LabelEncoder()\n",
        "    X[column] = le.fit_transform(X[column])\n",
        "\n",
        "scaler = StandardScaler()\n",
        "test_sizes = [20, 25, 30, 35]\n",
        "\n",
        "for test_size in test_sizes:\n",
        "    split = test_size / 100.0\n",
        "    X_train, X_test, y_train, y_test = train_test_split(X, y, test_size=split, random_state=42)\n",
        "    X_train = scaler.fit_transform(X_train)\n",
        "    X_test = scaler.transform(X_test)\n",
        "\n",
        "    knn = KNeighborsClassifier(n_neighbors=5)\n",
        "    knn.fit(X_train, y_train)\n",
        "\n",
        "    y_pred = knn.predict(X_test)\n",
        "    accuracy = accuracy_score(y_test, y_pred)\n",
        "    print(f\"KNN Accuracy with test size {test_size}%: {accuracy:.2f}\")\n"
      ],
      "metadata": {
        "id": "vQ1zlALtEiUy",
        "colab": {
          "base_uri": "https://localhost:8080/"
        },
        "outputId": "c74354fa-22dd-424f-ae49-71fcb6686929"
      },
      "execution_count": 4,
      "outputs": [
        {
          "output_type": "stream",
          "name": "stdout",
          "text": [
            "KNN Accuracy with test size 20%: 0.81\n",
            "KNN Accuracy with test size 25%: 0.79\n",
            "KNN Accuracy with test size 30%: 0.79\n",
            "KNN Accuracy with test size 35%: 0.80\n"
          ]
        }
      ]
    }
  ]
}